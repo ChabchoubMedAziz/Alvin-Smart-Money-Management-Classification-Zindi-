{
 "cells": [
  {
   "cell_type": "markdown",
   "metadata": {
    "id": "iYdpBYYceneg"
   },
   "source": [
    "## Importing libraries"
   ]
  },
  {
   "cell_type": "code",
   "execution_count": 20,
   "metadata": {
    "id": "06kkNxjIdgSW"
   },
   "outputs": [],
   "source": [
    "# Dataframe and Plotting libraries\n",
    "import pandas as pd\n",
    "import numpy as np\n",
    "import seaborn as sns\n",
    "import matplotlib.pyplot as plt\n",
    "from sklearn.ensemble import GradientBoostingClassifier,RandomForestClassifier\n",
    "# Machine Learning libraries\n",
    "from sklearn.preprocessing import StandardScaler\n",
    "from sklearn.model_selection import GroupKFold,StratifiedKFold\n",
    "\n",
    "from sklearn.tree import DecisionTreeClassifier\n",
    "from sklearn.metrics import accuracy_score, classification_report\n",
    "from sklearn.model_selection import train_test_split\n",
    "from sklearn.metrics import log_loss\n",
    "from sklearn.pipeline import Pipeline\n",
    "from sklearn.preprocessing import LabelEncoder\n",
    "\n",
    "\n",
    "pd.set_option('display.max_columns', None)\n",
    "# from google.colab import files\n",
    "import warnings\n",
    "warnings.filterwarnings('ignore')"
   ]
  },
  {
   "cell_type": "markdown",
   "metadata": {
    "id": "J8AhJ0cKer7b"
   },
   "source": [
    "## 1. Load the dataset"
   ]
  },
  {
   "cell_type": "code",
   "execution_count": 55,
   "metadata": {
    "id": "aPn2dmoMexCU"
   },
   "outputs": [
    {
     "data": {
      "text/html": [
       "<div>\n",
       "<style scoped>\n",
       "    .dataframe tbody tr th:only-of-type {\n",
       "        vertical-align: middle;\n",
       "    }\n",
       "\n",
       "    .dataframe tbody tr th {\n",
       "        vertical-align: top;\n",
       "    }\n",
       "\n",
       "    .dataframe thead th {\n",
       "        text-align: right;\n",
       "    }\n",
       "</style>\n",
       "<table border=\"1\" class=\"dataframe\">\n",
       "  <thead>\n",
       "    <tr style=\"text-align: right;\">\n",
       "      <th></th>\n",
       "      <th>MERCHANT_CATEGORIZED_AT</th>\n",
       "      <th>MERCHANT_NAME</th>\n",
       "      <th>MERCHANT_CATEGORIZED_AS</th>\n",
       "      <th>PURCHASE_VALUE</th>\n",
       "      <th>PURCHASED_AT</th>\n",
       "      <th>IS_PURCHASE_PAID_VIA_MPESA_SEND_MONEY</th>\n",
       "      <th>USER_AGE</th>\n",
       "      <th>USER_GENDER</th>\n",
       "      <th>USER_HOUSEHOLD</th>\n",
       "      <th>USER_INCOME</th>\n",
       "      <th>USER_ID</th>\n",
       "      <th>Transaction_ID</th>\n",
       "    </tr>\n",
       "  </thead>\n",
       "  <tbody>\n",
       "    <tr>\n",
       "      <th>0</th>\n",
       "      <td>2022-05-04 10:25:50.588042+00</td>\n",
       "      <td>UONSDA CHURCH  MOGERE MWAYO TITHE</td>\n",
       "      <td>Rent / Mortgage</td>\n",
       "      <td>1700</td>\n",
       "      <td>2022-05-04 13:56:00+00</td>\n",
       "      <td>False</td>\n",
       "      <td>NaN</td>\n",
       "      <td>Male</td>\n",
       "      <td>3</td>\n",
       "      <td>10000</td>\n",
       "      <td>ID_ZX4DCF4K</td>\n",
       "      <td>ID_04mk78fa</td>\n",
       "    </tr>\n",
       "    <tr>\n",
       "      <th>1</th>\n",
       "      <td>2021-10-25 16:18:38.586837+00</td>\n",
       "      <td>PARK N GO</td>\n",
       "      <td>Transport &amp; Fuel</td>\n",
       "      <td>100</td>\n",
       "      <td>2021-10-24 14:12:00+00</td>\n",
       "      <td>False</td>\n",
       "      <td>25.0</td>\n",
       "      <td>Female</td>\n",
       "      <td>4</td>\n",
       "      <td>90000</td>\n",
       "      <td>ID_U9WZMGJZ</td>\n",
       "      <td>ID_04xkfb07</td>\n",
       "    </tr>\n",
       "    <tr>\n",
       "      <th>2</th>\n",
       "      <td>2022-05-20 14:17:30.917297+00</td>\n",
       "      <td>SAFARICOM OFFERS  TUNUKIWA</td>\n",
       "      <td>Data &amp; WiFi</td>\n",
       "      <td>20</td>\n",
       "      <td>2022-05-27 12:46:00+00</td>\n",
       "      <td>False</td>\n",
       "      <td>NaN</td>\n",
       "      <td>Male</td>\n",
       "      <td>3</td>\n",
       "      <td>10000</td>\n",
       "      <td>ID_ZX4DCF4K</td>\n",
       "      <td>ID_051urwuw</td>\n",
       "    </tr>\n",
       "    <tr>\n",
       "      <th>3</th>\n",
       "      <td>2022-04-12 15:59:14.139347+00</td>\n",
       "      <td>ZILLIONS CREDIT LIMITED</td>\n",
       "      <td>Loan Repayment</td>\n",
       "      <td>3800</td>\n",
       "      <td>2022-02-07 12:16:00+00</td>\n",
       "      <td>False</td>\n",
       "      <td>NaN</td>\n",
       "      <td>Male</td>\n",
       "      <td>5</td>\n",
       "      <td>252000</td>\n",
       "      <td>ID_3JA0MAFB</td>\n",
       "      <td>ID_0e1om7rz</td>\n",
       "    </tr>\n",
       "    <tr>\n",
       "      <th>4</th>\n",
       "      <td>2022-05-04 10:24:26.709045+00</td>\n",
       "      <td>MICHAEL MUSEMBI</td>\n",
       "      <td>Bills &amp; Fees</td>\n",
       "      <td>60</td>\n",
       "      <td>2022-05-04 15:28:00+00</td>\n",
       "      <td>False</td>\n",
       "      <td>NaN</td>\n",
       "      <td>Male</td>\n",
       "      <td>3</td>\n",
       "      <td>10000</td>\n",
       "      <td>ID_ZX4DCF4K</td>\n",
       "      <td>ID_0kfcoawb</td>\n",
       "    </tr>\n",
       "    <tr>\n",
       "      <th>...</th>\n",
       "      <td>...</td>\n",
       "      <td>...</td>\n",
       "      <td>...</td>\n",
       "      <td>...</td>\n",
       "      <td>...</td>\n",
       "      <td>...</td>\n",
       "      <td>...</td>\n",
       "      <td>...</td>\n",
       "      <td>...</td>\n",
       "      <td>...</td>\n",
       "      <td>...</td>\n",
       "      <td>...</td>\n",
       "    </tr>\n",
       "    <tr>\n",
       "      <th>368</th>\n",
       "      <td>2021-08-06 11:28:03.723042+00</td>\n",
       "      <td>ONESMUS  GAKURU</td>\n",
       "      <td>Miscellaneous</td>\n",
       "      <td>500</td>\n",
       "      <td>2021-08-26 13:38:00+00</td>\n",
       "      <td>True</td>\n",
       "      <td>27.0</td>\n",
       "      <td>Female</td>\n",
       "      <td>2</td>\n",
       "      <td>8000</td>\n",
       "      <td>ID_L8QMYB09</td>\n",
       "      <td>ID_zr5x8yjs</td>\n",
       "    </tr>\n",
       "    <tr>\n",
       "      <th>369</th>\n",
       "      <td>2022-04-12 15:57:05.758311+00</td>\n",
       "      <td>GLADWELL MBURU</td>\n",
       "      <td>Miscellaneous</td>\n",
       "      <td>400</td>\n",
       "      <td>2022-04-03 08:39:00+00</td>\n",
       "      <td>True</td>\n",
       "      <td>NaN</td>\n",
       "      <td>Male</td>\n",
       "      <td>5</td>\n",
       "      <td>750000</td>\n",
       "      <td>ID_D8FOVVBB</td>\n",
       "      <td>ID_zty81sq8</td>\n",
       "    </tr>\n",
       "    <tr>\n",
       "      <th>370</th>\n",
       "      <td>2021-12-01 08:33:13.82067+00</td>\n",
       "      <td>SAFARICOM LIMITED</td>\n",
       "      <td>Data &amp; WiFi</td>\n",
       "      <td>500</td>\n",
       "      <td>2021-01-15 15:40:00+00</td>\n",
       "      <td>False</td>\n",
       "      <td>NaN</td>\n",
       "      <td>Male</td>\n",
       "      <td>3</td>\n",
       "      <td>200000</td>\n",
       "      <td>ID_ECX9BS4A</td>\n",
       "      <td>ID_zx5ajeqe</td>\n",
       "    </tr>\n",
       "    <tr>\n",
       "      <th>371</th>\n",
       "      <td>2021-10-05 12:29:13.14963+00</td>\n",
       "      <td>EQUITY PAYBILL ACCOUNT</td>\n",
       "      <td>Bills &amp; Fees</td>\n",
       "      <td>14000</td>\n",
       "      <td>2021-10-08 10:33:00+00</td>\n",
       "      <td>True</td>\n",
       "      <td>25.0</td>\n",
       "      <td>Female</td>\n",
       "      <td>4</td>\n",
       "      <td>90000</td>\n",
       "      <td>ID_U9WZMGJZ</td>\n",
       "      <td>ID_zx9hnvvb</td>\n",
       "    </tr>\n",
       "    <tr>\n",
       "      <th>372</th>\n",
       "      <td>2022-04-12 15:59:14.139347+00</td>\n",
       "      <td>RUBIS ENJOY UN AVENUE</td>\n",
       "      <td>Going out</td>\n",
       "      <td>60</td>\n",
       "      <td>2022-03-22 04:06:00+00</td>\n",
       "      <td>False</td>\n",
       "      <td>NaN</td>\n",
       "      <td>Male</td>\n",
       "      <td>5</td>\n",
       "      <td>252000</td>\n",
       "      <td>ID_3JA0MAFB</td>\n",
       "      <td>ID_zztijwt3</td>\n",
       "    </tr>\n",
       "  </tbody>\n",
       "</table>\n",
       "<p>373 rows × 12 columns</p>\n",
       "</div>"
      ],
      "text/plain": [
       "           MERCHANT_CATEGORIZED_AT                      MERCHANT_NAME  \\\n",
       "0    2022-05-04 10:25:50.588042+00  UONSDA CHURCH  MOGERE MWAYO TITHE   \n",
       "1    2021-10-25 16:18:38.586837+00                          PARK N GO   \n",
       "2    2022-05-20 14:17:30.917297+00         SAFARICOM OFFERS  TUNUKIWA   \n",
       "3    2022-04-12 15:59:14.139347+00            ZILLIONS CREDIT LIMITED   \n",
       "4    2022-05-04 10:24:26.709045+00                    MICHAEL MUSEMBI   \n",
       "..                             ...                                ...   \n",
       "368  2021-08-06 11:28:03.723042+00                    ONESMUS  GAKURU   \n",
       "369  2022-04-12 15:57:05.758311+00                     GLADWELL MBURU   \n",
       "370   2021-12-01 08:33:13.82067+00                  SAFARICOM LIMITED   \n",
       "371   2021-10-05 12:29:13.14963+00             EQUITY PAYBILL ACCOUNT   \n",
       "372  2022-04-12 15:59:14.139347+00              RUBIS ENJOY UN AVENUE   \n",
       "\n",
       "    MERCHANT_CATEGORIZED_AS  PURCHASE_VALUE            PURCHASED_AT  \\\n",
       "0           Rent / Mortgage            1700  2022-05-04 13:56:00+00   \n",
       "1          Transport & Fuel             100  2021-10-24 14:12:00+00   \n",
       "2               Data & WiFi              20  2022-05-27 12:46:00+00   \n",
       "3            Loan Repayment            3800  2022-02-07 12:16:00+00   \n",
       "4              Bills & Fees              60  2022-05-04 15:28:00+00   \n",
       "..                      ...             ...                     ...   \n",
       "368           Miscellaneous             500  2021-08-26 13:38:00+00   \n",
       "369           Miscellaneous             400  2022-04-03 08:39:00+00   \n",
       "370             Data & WiFi             500  2021-01-15 15:40:00+00   \n",
       "371            Bills & Fees           14000  2021-10-08 10:33:00+00   \n",
       "372               Going out              60  2022-03-22 04:06:00+00   \n",
       "\n",
       "     IS_PURCHASE_PAID_VIA_MPESA_SEND_MONEY  USER_AGE USER_GENDER  \\\n",
       "0                                    False       NaN        Male   \n",
       "1                                    False      25.0      Female   \n",
       "2                                    False       NaN        Male   \n",
       "3                                    False       NaN        Male   \n",
       "4                                    False       NaN        Male   \n",
       "..                                     ...       ...         ...   \n",
       "368                                   True      27.0      Female   \n",
       "369                                   True       NaN        Male   \n",
       "370                                  False       NaN        Male   \n",
       "371                                   True      25.0      Female   \n",
       "372                                  False       NaN        Male   \n",
       "\n",
       "     USER_HOUSEHOLD  USER_INCOME      USER_ID Transaction_ID  \n",
       "0                 3        10000  ID_ZX4DCF4K    ID_04mk78fa  \n",
       "1                 4        90000  ID_U9WZMGJZ    ID_04xkfb07  \n",
       "2                 3        10000  ID_ZX4DCF4K    ID_051urwuw  \n",
       "3                 5       252000  ID_3JA0MAFB    ID_0e1om7rz  \n",
       "4                 3        10000  ID_ZX4DCF4K    ID_0kfcoawb  \n",
       "..              ...          ...          ...            ...  \n",
       "368               2         8000  ID_L8QMYB09    ID_zr5x8yjs  \n",
       "369               5       750000  ID_D8FOVVBB    ID_zty81sq8  \n",
       "370               3       200000  ID_ECX9BS4A    ID_zx5ajeqe  \n",
       "371               4        90000  ID_U9WZMGJZ    ID_zx9hnvvb  \n",
       "372               5       252000  ID_3JA0MAFB    ID_zztijwt3  \n",
       "\n",
       "[373 rows x 12 columns]"
      ]
     },
     "execution_count": 55,
     "metadata": {},
     "output_type": "execute_result"
    }
   ],
   "source": [
    "# Load the files into a Pandas Dataframe\n",
    "train = pd.read_csv('Train.csv')\n",
    "test = pd.read_csv('Test.csv')\n",
    "ss = pd.read_csv('SampleSubmission.csv')\n",
    "extra=pd.read_csv('extra_data.csv')\n",
    "train"
   ]
  },
  {
   "cell_type": "markdown",
   "metadata": {},
   "source": [
    "## 2. Understand the dataset"
   ]
  },
  {
   "cell_type": "code",
   "execution_count": 322,
   "metadata": {},
   "outputs": [
    {
     "data": {
      "image/png": "[encoded data removed]",
      "text/plain": [
       "<Figure size 576x360 with 1 Axes>"
      ]
     },
     "metadata": {},
     "output_type": "display_data"
    }
   ],
   "source": [
    "# Target variable distribution\n",
    "sns.set_style('darkgrid')\n",
    "plt.figure(figsize=(8, 5))\n",
    "sns.countplot(train[\"MERCHANT_CATEGORIZED_AS\"])\n",
    "plt.title('Target variable distribution')\n",
    "plt.show()"
   ]
  },
  {
   "cell_type": "code",
   "execution_count": 5,
   "metadata": {},
   "outputs": [
    {
     "data": {
      "image/png": "[encoded data removed]",
      "text/plain": [
       "<Figure size 1080x720 with 4 Axes>"
      ]
     },
     "metadata": {},
     "output_type": "display_data"
    }
   ],
   "source": [
    "sns.set_style('darkgrid')\n",
    "fig, axes = plt.subplots(nrows = 2, ncols = 2, figsize = (15, 10))\n",
    "fig.suptitle('Box plots showing outliers', y= 0.93, fontsize = 15)\n",
    "\n",
    "for ax, data, name in zip(axes.flatten(), train, ['PURCHASE_VALUE','USER_INCOME','USER_AGE','USER_HOUSEHOLD']):\n",
    "  sns.boxplot(train[name], ax = ax)"
   ]
  },
  {
   "cell_type": "markdown",
   "metadata": {
    "id": "6Gp_xSOrtyfj"
   },
   "source": [
    "Let's look at a bar graph of the train data."
   ]
  },
  {
   "cell_type": "code",
   "execution_count": 145,
   "metadata": {
    "colab": {
     "base_uri": "https://localhost:8080/",
     "height": 780
    },
    "id": "3_E4cGDvstrK",
    "outputId": "bd8ff217-3d67-4ea2-cc07-c2198433ddee"
   },
   "outputs": [
    {
     "data": {
      "text/plain": [
       "<BarContainer object of 373 artists>"
      ]
     },
     "execution_count": 145,
     "metadata": {},
     "output_type": "execute_result"
    },
    {
     "data": {
      "image/png": "[encoded data removed]",
      "text/plain": [
       "<Figure size 800x600 with 1 Axes>"
      ]
     },
     "metadata": {
      "needs_background": "light"
     },
     "output_type": "display_data"
    }
   ],
   "source": [
    "# Show a bar graph of the purchase_value vs the target in the train data (merchant_categorized_as)\n",
    "plt.figure(dpi=200, figsize=(4,3))\n",
    "plt.xticks(rotation=90)\n",
    "plt.bar(data=train, x='MERCHANT_CATEGORIZED_AS', height='PURCHASE_VALUE')"
   ]
  },
  {
   "cell_type": "markdown",
   "metadata": {
    "id": "8NZhaPZIs2xk"
   },
   "source": [
    "It's interesting to note that more money was spent on education than bills & fees, emergency fund, rent/mortgage and loan repayment.\n",
    "\n",
    "Also very little was spent on health and transport & fuel."
   ]
  },
  {
   "cell_type": "markdown",
   "metadata": {
    "id": "wKJswRvsyD8d"
   },
   "source": [
    "Encode the target labels to values to show a correlation matrix."
   ]
  },
  {
   "cell_type": "code",
   "execution_count": 226,
   "metadata": {
    "colab": {
     "base_uri": "https://localhost:8080/"
    },
    "id": "zTPRRb1dyH2R",
    "outputId": "51dff886-5657-468c-be0a-c955660ff7f7"
   },
   "outputs": [
    {
     "name": "stdout",
     "output_type": "stream",
     "text": [
      "Train data:  {'MERCHANT_CATEGORIZED_AS': {'Bills & Fees': 1, 'Data & WiFi': 2, 'Education': 3, 'Emergency fund': 4, 'Family & Friends': 5, 'Going out': 6, 'Groceries': 7, 'Health': 8, 'Loan Repayment': 9, 'Miscellaneous': 10, 'Rent / Mortgage': 11, 'Shopping': 12, 'Transport & Fuel': 13}}\n"
     ]
    }
   ],
   "source": [
    "# Use a dictionary comprehension and zip to create a dictionary for all the categories in the train data\n",
    "labels_train = train['MERCHANT_CATEGORIZED_AS'].astype('category').cat.categories.tolist()\n",
    "replace_map_train = {'MERCHANT_CATEGORIZED_AS' : {k: v for k,v in zip(labels_train,list(range(1,len(labels_train)+1)))}}\n",
    "print(\"Train data: \", replace_map_train)"
   ]
  },
  {
   "cell_type": "code",
   "execution_count": 224,
   "metadata": {
    "id": "YEnKu6HjyM2z"
   },
   "outputs": [],
   "source": [
    "# Create a copy to use for the correlation matrix (as it only accepts numerical data)\n",
    "train_data_corr = train.copy()"
   ]
  },
  {
   "cell_type": "code",
   "execution_count": 227,
   "metadata": {
    "id": "GvFoJNrXyQsp"
   },
   "outputs": [],
   "source": [
    "# Replace the categories with the numerical equivalents from the dictionary\n",
    "train_data_corr.replace(replace_map_train, inplace=True)"
   ]
  },
  {
   "cell_type": "markdown",
   "metadata": {
    "id": "RM0Z7YtByZZ8"
   },
   "source": [
    "Correlation matrix"
   ]
  },
  {
   "cell_type": "code",
   "execution_count": 228,
   "metadata": {
    "colab": {
     "base_uri": "https://localhost:8080/"
    },
    "id": "OunGY3AeyYVC",
    "outputId": "e03cb524-8871-40b7-8e91-187234adbb51"
   },
   "outputs": [
    {
     "data": {
      "text/plain": [
       "MERCHANT_CATEGORIZED_AS                  1.000000\n",
       "PURCHASE_VALUE                          -0.074565\n",
       "IS_PURCHASE_PAID_VIA_MPESA_SEND_MONEY   -0.086870\n",
       "USER_AGE                                 0.143406\n",
       "USER_HOUSEHOLD                          -0.012197\n",
       "USER_INCOME                              0.041954\n",
       "Name: MERCHANT_CATEGORIZED_AS, dtype: float64"
      ]
     },
     "execution_count": 228,
     "metadata": {},
     "output_type": "execute_result"
    }
   ],
   "source": [
    "train_data_corr[train_data_corr.columns[1:]].corr()['MERCHANT_CATEGORIZED_AS'][:]"
   ]
  },
  {
   "cell_type": "markdown",
   "metadata": {
    "id": "_-xUy1m1zSro"
   },
   "source": [
    "We can see that not many things are correlated with MERCHANT_CATEGORIZED_AS, so it seems like we don't have enough data."
   ]
  },
  {
   "cell_type": "markdown",
   "metadata": {
    "id": "brJlTnmLzkiZ"
   },
   "source": [
    "We need to drop empty rows if there are any."
   ]
  },
  {
   "cell_type": "code",
   "execution_count": 56,
   "metadata": {
    "id": "BgS1RoLfzmVY"
   },
   "outputs": [],
   "source": [
    "train.dropna(how='all', inplace=True)\n",
    "test.dropna(how='all', inplace=True)"
   ]
  },
  {
   "cell_type": "markdown",
   "metadata": {
    "id": "iqPs_Z9L1TuC"
   },
   "source": [
    "## Pre-Process"
   ]
  },
  {
   "cell_type": "markdown",
   "metadata": {
    "id": "tNGDf7vvp4dI"
   },
   "source": [
    "By further investigation we see that the empty gender entries in the train set are all for one user: ID_R4T8Q46J in both train and test, therefore we can fill the gender with a value"
   ]
  },
  {
   "cell_type": "markdown",
   "metadata": {},
   "source": [
    "###  add text features (num_of_words, length...etc). Use CountVectorizer to count the frequencies of each word and make clusters other than label encode"
   ]
  },
  {
   "cell_type": "code",
   "execution_count": 57,
   "metadata": {},
   "outputs": [],
   "source": [
    "from sklearn.feature_extraction.text import TfidfVectorizer\n",
    "from sklearn.cluster import MiniBatchKMeans\n",
    "def all_data_clustering_pipeline(**kwargs):\n",
    "\n",
    "    # CHANGE TITLES TO VECTORS\n",
    "    vectorizer = TfidfVectorizer(min_df=kwargs['min_df'], max_df=kwargs['max_df'],\n",
    "                                 ngram_range=kwargs['ngram_range'], analyzer=kwargs['analyzer'])\n",
    "\n",
    "    # CLUSTERING USING MiniBatchKMeans\n",
    "    km = MiniBatchKMeans(n_clusters=kwargs['n_clusters'], random_state=0)\n",
    "\n",
    "    # FIT PIPELINE\n",
    "    pipe = Pipeline([('vect', vectorizer), ('kmeans', km)])\n",
    "    titles = kwargs['ads_df'].apply(lambda x: np.str_(x))\n",
    "    pipe.fit_transform(titles)\n",
    "\n",
    "    # ADD MICRO_CLUSTER_ID TO DATAFRAME\n",
    "    all_data['micro_cluster_id'+str(kwargs['id'])] = pipe['kmeans'].labels_\n",
    "    return all_data\n"
   ]
  },
  {
   "cell_type": "code",
   "execution_count": 58,
   "metadata": {},
   "outputs": [],
   "source": [
    "#Bining\n",
    "def f(x):\n",
    "    if (x > 0) and (x <= 10000):\n",
    "        return 0\n",
    "    elif (x > 10000) and (x <= 80000 ):\n",
    "        return 1\n",
    "    else :\n",
    "        return 2\n",
    "\n",
    "train['PURCHASE_VALUE_CATE'] = train['PURCHASE_VALUE'].apply(f)\n",
    "test['PURCHASE_VALUE_CATE'] = test['PURCHASE_VALUE'].apply(f)\n"
   ]
  },
  {
   "cell_type": "code",
   "execution_count": 50,
   "metadata": {},
   "outputs": [],
   "source": [
    "def trans_to_date(data):\n",
    "  \"\"\" Convert columns to datetime format \"\"\"\n",
    "  new_data = data.copy()\n",
    "  new_data['MERCHANT_CATEGORIZED_AT']= pd.to_datetime(new_data['MERCHANT_CATEGORIZED_AT'])\n",
    "  new_data['PURCHASED_AT']= pd.to_datetime(new_data['PURCHASED_AT'])\n",
    "\n",
    "  return new_data\n",
    "\n",
    "train = trans_to_date(train)\n",
    "test = trans_to_date(test)"
   ]
  },
  {
   "cell_type": "code",
   "execution_count": 51,
   "metadata": {},
   "outputs": [],
   "source": [
    "def get_time_diff(data):\n",
    "  \"\"\" Getting what time of day it was, noon,morning... and the diff in minutes\n",
    "      from purchased_at and merechant_categorized_at\"\"\"\n",
    "  new_data = data.copy()\n",
    " # new_data['merchant_cat_at_time_of_day'] = new_data['MERCHANT_CATEGORIZED_AT'].dt.hour.apply(f)\n",
    " # new_data['purchased_at_time_of_day'] = new_data['PURCHASED_AT'].dt.hour.apply(f)\n",
    "  new_data['diff_minutes'] = np.absolute(new_data['PURCHASED_AT'] - new_data['MERCHANT_CATEGORIZED_AT']).astype('timedelta64[m]')\n",
    "  #new_data.drop('PURCHASED_AT',1,inplace=True)\n",
    "  #new_data.drop('MERCHANT_CATEGORIZED_AT',1,inplace=True)\n",
    "  return new_data\n",
    "\n",
    "test = get_time_diff(test)\n",
    "train = get_time_diff(train)"
   ]
  },
  {
   "cell_type": "markdown",
   "metadata": {},
   "source": [
    "### After training, date with all feature engineering, gives bad results"
   ]
  },
  {
   "cell_type": "code",
   "execution_count": 30,
   "metadata": {},
   "outputs": [],
   "source": [
    "class Process :\n",
    "\n",
    "  def LE(self,data,LE_cols = []) :\n",
    "    LE = LabelEncoder()\n",
    "    for le_col in LE_cols :\n",
    "      data[le_col] = LE.fit_transform(data[le_col])\n",
    "  \n",
    "  def process(self,train,test) :\n",
    "    data = pd.concat([train,test]).reset_index(drop=True)\n",
    "    \n",
    "    #data['date']=data['PURCHASED_AT'].apply(lambda x : x.split(' ')[0])\n",
    "    #data['hour']=data['PURCHASED_AT'].apply(lambda x : x.split(' ')[1])\n",
    "    # time features \n",
    "    \n",
    "    #data['created_at'] = pd.to_datetime(data['date'])\n",
    "\n",
    "    #data['PURCHASED_AT'] = pd.to_datetime(data['PURCHASED_AT'])\n",
    "    #data['MERCHANT_CATEGORIZED_AT'] = pd.to_datetime(data['MERCHANT_CATEGORIZED_AT'])\n",
    "    #data['diff']=abs(data['USER_INCOME']-data['PURCHASE_VALUE'])\n",
    "    \n",
    "    #data['same_date']=data['MERCHANT_CATEGORIZED_AT']==data['created_at']\n",
    "    \n",
    "    #data['diff_days']=data['diff'].astype(str).apply(lambda x : x.split(' ')[0])\n",
    "    #data['diff_temp']=data['diff'].astype(str).apply(lambda x : x.split(' ')[2])\n",
    "    \n",
    "   # data['diff_heures']=data['diff_temp'].apply(lambda x : x.split(':')[0])\n",
    "   # data['diff_min']=data['diff_temp'].apply(lambda x : x.split(':')[0])\n",
    "    \n",
    "    #data['user_income_2']=data['USER_INCOME']**2\n",
    "    #data['user_income_sqrt']=np.sqrt(data['USER_INCOME'])\n",
    "   # data['PURCHASE_VALUE_2']=data['PURCHASE_VALUE']**2\n",
    "   # data['PURCHASE_VALUE_sqrt']=np.sqrt(data['PURCHASE_VALUE'])\n",
    "    data['PURCHASE_VALUE_log']=np.log1p(data['PURCHASE_VALUE'])\n",
    "    data['user_income_log']=np.log1p(data['PURCHASE_VALUE'])\n",
    "    \n",
    "    data['newf']=data['USER_INCOME']/data['USER_HOUSEHOLD']\n",
    "\n",
    "\n",
    "    \n",
    "   \n",
    "\n",
    "\n",
    "\n",
    "\n",
    "\n",
    "\n",
    "    #data['year'] = data['created_at'].dt.year\n",
    "    #data['year'] = data['year'].astype(float)\n",
    "    #data['month'] = data['created_at'].dt.month\n",
    "    #data['day'] = data['created_at'].dt.day\n",
    "    #data['weekday'] = data['created_at'].dt.weekday\n",
    "    #data['weekofyear'] = data['created_at'].dt.weekofyear\n",
    "\n",
    "    # combination between time features\n",
    "   # data['day_hour']  = data['day'].astype(str) + '-' + data['hour'].astype(str)\n",
    "    #data['month_day'] = data['month'].astype(str) + '-' + data['day'].astype(str)\n",
    "\n",
    "    # Label Encoder\n",
    "   # self.LE(data,LE_cols = ['day_hour','month_day'])\n",
    "    # Get our New Train,Test\n",
    "    #data['SplitBy']   = data['year'].astype(int).astype(str) + '-' + data['month'].astype(str) + '-' + data['day'].astype(str)\n",
    "    #data = data.sort_values('SplitBy').reset_index(drop=True)\n",
    "    train = data[data['Transaction_ID'].isin(train['Transaction_ID'].values)].reset_index(drop=True)\n",
    "    test = data[~data['Transaction_ID'].isin(train['Transaction_ID'].values)].reset_index(drop=True)\n",
    "\n",
    "    return train, test"
   ]
  },
  {
   "cell_type": "code",
   "execution_count": 31,
   "metadata": {},
   "outputs": [],
   "source": [
    "processor = Process()\n",
    "train, test= processor.process(train,test)"
   ]
  },
  {
   "cell_type": "code",
   "execution_count": 59,
   "metadata": {},
   "outputs": [],
   "source": [
    "train[\"USER_GENDER\"] = train[\"USER_GENDER\"].apply(lambda x: \"Male\" if pd.isna(x) else x)\n",
    "test[\"USER_GENDER\"] = test[\"USER_GENDER\"].apply(lambda x: \"Male\" if pd.isna(x) else x)"
   ]
  },
  {
   "cell_type": "markdown",
   "metadata": {
    "id": "GyzBaBWbrBkO"
   },
   "source": [
    "We have various options with regards to filling in the missing values for AGE.\n",
    "Let's impute these values with the median"
   ]
  },
  {
   "cell_type": "code",
   "execution_count": 60,
   "metadata": {
    "id": "ilUVxzfkrK9u"
   },
   "outputs": [],
   "source": [
    "def fill_missing_values(data, imputation_method='median'):\n",
    "    data_copy = data.copy()\n",
    "    for column in data_copy.columns:\n",
    "        if data_copy[column].dtype == np.dtype('O'):\n",
    "            data_copy[column] = data_copy[column].fillna(data_copy[column].mode().iloc[0])\n",
    "        else:\n",
    "            if imputation_method == 'median':\n",
    "                data_copy[column] = data_copy[column].fillna(data_copy[column].median())\n",
    "            elif imputation_method == 'mean':\n",
    "                data_copy[column] = data_copy[column].fillna(data_copy[column].mean())\n",
    "    return data_copy\n",
    "train = fill_missing_values(train)\n",
    "test = fill_missing_values(test)\n"
   ]
  },
  {
   "cell_type": "markdown",
   "metadata": {
    "id": "4aVy-Pr01Z3n"
   },
   "source": [
    "### One-hot encode"
   ]
  },
  {
   "cell_type": "markdown",
   "metadata": {
    "id": "JMA98GfzrZsq"
   },
   "source": [
    "Now we need to do some other changes before we can run the metrics.\n",
    "One-hot encode MERCHANT_NAME so we can run metrics.\n",
    "\n",
    "To ensure uniformity across train and test, we will merge both dataset then perform 1 hot encode"
   ]
  },
  {
   "cell_type": "code",
   "execution_count": 61,
   "metadata": {},
   "outputs": [],
   "source": [
    "train[\"train\"] = 1\n",
    "test[\"train\"] = 0\n",
    "all_data = pd.concat([train, test])\n",
    "\n",
    "all_data['len_text']=all_data['MERCHANT_NAME'].apply(len)\n",
    "\n",
    "txt0_cluster_params = {\"ads_df\": all_data['MERCHANT_NAME'],\"id\":0,\n",
    "                               \"n_clusters\": 30, \"min_df\": 0.001, \"max_df\": 0.99,\n",
    "                               \"ngram_range\": (1, 1),\n",
    "                               \"analyzer\": 'char_wb'}\n",
    "\n",
    "\n",
    "all_data = all_data_clustering_pipeline(**txt0_cluster_params)\n",
    "\n",
    "all_data = pd.get_dummies(all_data, prefix_sep=\"_\", columns=['MERCHANT_NAME'])\n",
    "all_data.drop_duplicates(subset=['Transaction_ID'])\n",
    "train = all_data[all_data[\"train\"] == 1]\n",
    "test = all_data[all_data[\"train\"] == 0]"
   ]
  },
  {
   "cell_type": "markdown",
   "metadata": {
    "id": "E0RrIAKorrCd"
   },
   "source": [
    "Let's see how this affected the shapes"
   ]
  },
  {
   "cell_type": "markdown",
   "metadata": {
    "id": "_-hQBD7R1gF1"
   },
   "source": [
    "### Drop unnecessary columns"
   ]
  },
  {
   "cell_type": "markdown",
   "metadata": {
    "id": "b6Smz5ogrxFt"
   },
   "source": [
    "We can also drop unnecessary categorical columns as we're currently not interested in when the purchases were made or when they were categorized."
   ]
  },
  {
   "cell_type": "code",
   "execution_count": 63,
   "metadata": {
    "id": "ySpFfwxJr4D7"
   },
   "outputs": [],
   "source": [
    "train = train.drop(['MERCHANT_CATEGORIZED_AT','PURCHASED_AT','USER_ID', 'train','Transaction_ID'], axis=1)\n",
    "test = test.drop(['MERCHANT_CATEGORIZED_AT','PURCHASED_AT','USER_ID', \"MERCHANT_CATEGORIZED_AS\",'train'], axis=1)"
   ]
  },
  {
   "cell_type": "markdown",
   "metadata": {
    "id": "xRQDXQho1lBg"
   },
   "source": [
    "### Convert Boolean to Binary"
   ]
  },
  {
   "cell_type": "markdown",
   "metadata": {
    "id": "MX2U_Uc4sGB1"
   },
   "source": [
    "Now we convert boolean entries to binary."
   ]
  },
  {
   "cell_type": "code",
   "execution_count": 64,
   "metadata": {
    "id": "vQ0GOPUdsJlI"
   },
   "outputs": [],
   "source": [
    "# Based on our data set, this function converts boolean to binary entries\n",
    "def create_binary_cols(content):\n",
    "  if content == False:\n",
    "    content = 0\n",
    "  elif content == True:\n",
    "    content = 1\n",
    "  elif content == 'N':\n",
    "    content = 0\n",
    "  elif content == 'Y':\n",
    "    content = 1\n",
    "  elif content == 'Male':\n",
    "    content = 0\n",
    "  elif content == 'Female':\n",
    "    content = 1\n",
    "  return content"
   ]
  },
  {
   "cell_type": "code",
   "execution_count": 65,
   "metadata": {
    "id": "WV7llutosRsK"
   },
   "outputs": [],
   "source": [
    "# Gender column convert:\n",
    "train['USER_GENDER'] = train['USER_GENDER'].apply(create_binary_cols)\n",
    "test['USER_GENDER'] = test['USER_GENDER'].apply(create_binary_cols)\n",
    "\n",
    "#train['same_date'] = train['same_date'].apply(create_binary_cols)\n",
    "#test['same_date'] = test['same_date'].apply(create_binary_cols)\n",
    "\n",
    "# Is_purchase_paid_via_mpesa_send_money column convert:\n",
    "train['IS_PURCHASE_PAID_VIA_MPESA_SEND_MONEY'] = train['IS_PURCHASE_PAID_VIA_MPESA_SEND_MONEY'].apply(create_binary_cols)\n",
    "test['IS_PURCHASE_PAID_VIA_MPESA_SEND_MONEY'] = test['IS_PURCHASE_PAID_VIA_MPESA_SEND_MONEY'].apply(create_binary_cols)"
   ]
  },
  {
   "cell_type": "markdown",
   "metadata": {
    "id": "4ofAVhkhuarx"
   },
   "source": [
    "## 3. Data preparation for machine learning\n",
    "\n",
    "Before you train the model for prediction, you need to perform data [cleaning](https://www.dataquest.io/blog/machine-learning-preparing-data/) and [preprocessing](https://towardsdatascience.com/data-preprocessing-concepts-fa946d11c825). This is a very important step; your model will not perform well without these steps.\n",
    "\n",
    "The first step is to separate the independent variables and target() from the training data. Then transform the target values from the object data type into numerical.\n"
   ]
  },
  {
   "cell_type": "code",
   "execution_count": 66,
   "metadata": {
    "id": "v0Y0uKWguZ9n"
   },
   "outputs": [],
   "source": [
    "# Separate the features from the target in the training data\n",
    "X = train.drop([\"MERCHANT_CATEGORIZED_AS\"], axis=1)\n",
    "y = train[\"MERCHANT_CATEGORIZED_AS\"]"
   ]
  },
  {
   "cell_type": "code",
   "execution_count": 67,
   "metadata": {},
   "outputs": [],
   "source": [
    "from imblearn.over_sampling import SMOTE, ADASYN\n",
    "\n",
    "X_resampled, y_resampled = SMOTE(k_neighbors=1).fit_resample(X, y)\n"
   ]
  },
  {
   "cell_type": "markdown",
   "metadata": {
    "id": "T2SGpaag1QSD"
   },
   "source": [
    "## Model Building and Experiments\n",
    "A portion of the training data set will be used to evaluate our models and find the best one that performs well before using it in the test dataset.\n"
   ]
  },
  {
   "cell_type": "code",
   "execution_count": 68,
   "metadata": {
    "id": "clVOI_t16J1k"
   },
   "outputs": [],
   "source": [
    "# # Split the training data\n",
    "\n",
    "X_train, X_val, y_train, y_val = train_test_split(X_resampled, y_resampled, test_size=0.10, random_state=101)"
   ]
  },
  {
   "cell_type": "code",
   "execution_count": 69,
   "metadata": {},
   "outputs": [
    {
     "name": "stdout",
     "output_type": "stream",
     "text": [
      "log_loss: 0.7969644262401671\n",
      "log_loss: 0.651364799351064\n",
      "log_loss: 0.5784153832524923\n",
      "log_loss: 0.6299532084508099\n",
      "log_loss: 0.75509413281664\n",
      "1.4246694326621152\n"
     ]
    }
   ],
   "source": [
    "from mlxtend.classifier import StackingClassifier\n",
    "from sklearn.model_selection import KFold\n",
    "from catboost import CatBoostClassifier, Pool\n",
    "from sklearn.neighbors import KNeighborsClassifier\n",
    "from sklearn.model_selection import RepeatedStratifiedKFold\n",
    "\n",
    "from sklearn.multiclass import OneVsRestClassifier\n",
    "from sklearn.linear_model import LogisticRegression\n",
    "import lightgbm as lgb\n",
    "from sklearn.utils.class_weight import compute_class_weight\n",
    "from sklearn.svm import SVC\n",
    "\n",
    "kf = KFold(n_splits=5,random_state=42,shuffle=True)\n",
    "for i, (train_index, valid_index) in enumerate(kf.split(X_resampled,y_resampled)):\n",
    "   \n",
    "    X_train, y_train = X_resampled.iloc[train_index], y_resampled.iloc[train_index]\n",
    "    X_val, y_val = X_resampled.iloc[valid_index], y_resampled.iloc[valid_index]\n",
    "\n",
    "\n",
    "    m =OneVsRestClassifier(StackingClassifier(\n",
    "        classifiers=[\n",
    "            LogisticRegression(),\n",
    "    CatBoostClassifier(\n",
    "         iterations=150, \n",
    "        #depth=11,\n",
    "        #use_best_model =True,\n",
    "        verbose =0,\n",
    "\n",
    "        task_type=\"GPU\",\n",
    "            learning_rate=0.1,\n",
    "        early_stopping_rounds= 100    \n",
    "    )    ],\n",
    "        use_probas=True,\n",
    "        meta_classifier=LogisticRegression()\n",
    "    ))\n",
    "\n",
    "\n",
    "\n",
    "\n",
    "\n",
    "    m.fit(X_train, y_train),\n",
    "    preds = m.predict_proba(X_val)\n",
    "    loss+=log_loss(y_val, preds)\n",
    "    print(f'log_loss: {log_loss(y_val, preds)}')\n",
    "print(loss/5)"
   ]
  },
  {
   "cell_type": "markdown",
   "metadata": {
    "id": "XJnV9lsd2-s-"
   },
   "source": [
    "### 5. Making the first submission\n",
    "\n",
    "Let’s see how the model performs on the competition test data set provided and how we rank on the competition leaderboard.\n",
    "\n",
    "First we make predictions on the competition test data set."
   ]
  },
  {
   "cell_type": "code",
   "execution_count": 117,
   "metadata": {},
   "outputs": [],
   "source": [
    "predictions = clf.predict_proba(test.drop(\"Transaction_ID\", axis=1))"
   ]
  },
  {
   "cell_type": "code",
   "execution_count": 75,
   "metadata": {
    "id": "LoH4zhJb3EV4"
   },
   "outputs": [],
   "source": [
    "# Get the predicted result for the test Data\n",
    "predictions = m.predict_proba(test.drop(\"Transaction_ID\", axis=1))\n",
    "samplesubmission = pd.read_csv('SampleSubmission.csv')\n",
    "\n",
    "sub_file = samplesubmission.copy()\n",
    "sub_file= pd.DataFrame(predictions)"
   ]
  },
  {
   "cell_type": "code",
   "execution_count": 76,
   "metadata": {},
   "outputs": [],
   "source": [
    "ID_column = samplesubmission[\"Transaction_ID\"]"
   ]
  },
  {
   "cell_type": "code",
   "execution_count": 56,
   "metadata": {},
   "outputs": [],
   "source": [
    "sub_file.rename(columns = {0:'Bills & Fees', 1 : 'Data & WiFi', 2: 'Education', 3: 'Emergency fund', 4: 'Family & Friends', 5: 'Going out', 6: 'Groceries', 7: 'Health', 8: 'Loan Repayment', 9: 'Miscellaneous', 10: 'Rent / Mortgage', 11: 'Shopping', 12: 'Transport & Fuel'}, inplace = True)\n",
    "results = pd.concat([ID_column, sub_file], axis=1)"
   ]
  },
  {
   "cell_type": "code",
   "execution_count": 57,
   "metadata": {},
   "outputs": [],
   "source": [
    "# Create the submission csv file\n",
    "results.to_csv('first_submission.csv', index = False)"
   ]
  },
  {
   "cell_type": "markdown",
   "metadata": {
    "id": "Kq5e1pAw3zZ3"
   },
   "source": [
    "## More Ides\n",
    "- Look at the extra dataset provided, check if it's resourceful for training\n",
    "- Thorough EDA and domain knowledge sourcing\n",
    "- Re-group Categorical features \n",
    "- More Feature Engineering \n",
    "- Dataset balancing - oversampling, undersampling, SMOTE...\n",
    "- Ensembling of models \n",
    "- Cross-validation: Group folds, Stratified..."
   ]
  }
 ],
 "metadata": {
  "colab": {
   "collapsed_sections": [],
   "name": "Alvinapp competition.ipynb",
   "provenance": [],
   "toc_visible": true
  },
  "kernelspec": {
   "display_name": "Python 3 (ipykernel)",
   "language": "python",
   "name": "python3"
  },
  "language_info": {
   "codemirror_mode": {
    "name": "ipython",
    "version": 3
   },
   "file_extension": ".py",
   "mimetype": "text/x-python",
   "name": "python",
   "nbconvert_exporter": "python",
   "pygments_lexer": "ipython3",
   "version": "3.8.5"
  }
 },
 "nbformat": 4,
 "nbformat_minor": 1
}
